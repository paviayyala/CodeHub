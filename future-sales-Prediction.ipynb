{
 "cells": [
  {
   "cell_type": "code",
   "execution_count": 1,
   "metadata": {
    "execution": {
     "iopub.execute_input": "2022-05-13T05:06:24.641649Z",
     "iopub.status.busy": "2022-05-13T05:06:24.640876Z",
     "iopub.status.idle": "2022-05-13T05:06:25.404469Z",
     "shell.execute_reply": "2022-05-13T05:06:25.405135Z",
     "shell.execute_reply.started": "2022-05-12T11:55:19.42629Z"
    },
    "papermill": {
     "duration": 0.808443,
     "end_time": "2022-05-13T05:06:25.405359",
     "exception": false,
     "start_time": "2022-05-13T05:06:24.596916",
     "status": "completed"
    },
    "tags": []
   },
   "outputs": [
    {
     "name": "stdout",
     "output_type": "stream",
     "text": [
      "pavithran\n",
      "pavithran\n",
      "/kaggle/input/competitive-data-science-predict-future-sales/items.csv\n",
      "/kaggle/input/competitive-data-science-predict-future-sales/sample_submission.csv\n",
      "/kaggle/input/competitive-data-science-predict-future-sales/item_categories.csv\n",
      "/kaggle/input/competitive-data-science-predict-future-sales/sales_train.csv\n",
      "/kaggle/input/competitive-data-science-predict-future-sales/shops.csv\n",
      "/kaggle/input/competitive-data-science-predict-future-sales/test.csv\n"
     ]
    }
   ],
   "source": [
    "import numpy as np \n",
    "import pandas as pd \n",
    "import matplotlib.pyplot as plt\n",
    "import seaborn as sns\n",
    "sns.set(style=\"darkgrid\")\n",
    "\n",
    "\n",
    "import os\n",
    "for dirname, _, filenames in os.walk('/kaggle/input'):\n",
    "    print(\"pavithran\")\n",
    "    for filename in filenames:\n",
    "        print(os.path.join(dirname, filename))"
   ]
  },
  {
   "cell_type": "markdown",
   "metadata": {
    "papermill": {
     "duration": 0.036514,
     "end_time": "2022-05-13T05:06:25.481456",
     "exception": false,
     "start_time": "2022-05-13T05:06:25.444942",
     "status": "completed"
    },
    "tags": []
   },
   "source": [
    "# Load Data"
   ]
  },
  {
   "cell_type": "code",
   "execution_count": 2,
   "metadata": {
    "execution": {
     "iopub.execute_input": "2022-05-13T05:06:25.561060Z",
     "iopub.status.busy": "2022-05-13T05:06:25.560510Z",
     "iopub.status.idle": "2022-05-13T05:06:27.926406Z",
     "shell.execute_reply": "2022-05-13T05:06:27.925810Z",
     "shell.execute_reply.started": "2022-05-12T12:28:25.757822Z"
    },
    "papermill": {
     "duration": 2.408411,
     "end_time": "2022-05-13T05:06:27.926543",
     "exception": false,
     "start_time": "2022-05-13T05:06:25.518132",
     "status": "completed"
    },
    "tags": []
   },
   "outputs": [],
   "source": [
    "# load data\n",
    "items=pd.read_csv(\"/kaggle/input/competitive-data-science-predict-future-sales/items.csv\")\n",
    "shops=pd.read_csv(\"/kaggle/input/competitive-data-science-predict-future-sales/shops.csv\")\n",
    "cats=pd.read_csv(\"/kaggle/input/competitive-data-science-predict-future-sales/item_categories.csv\")\n",
    "train=pd.read_csv(\"/kaggle/input/competitive-data-science-predict-future-sales/sales_train.csv\")\n",
    "test=pd.read_csv(\"/kaggle/input/competitive-data-science-predict-future-sales/test.csv\")"
   ]
  },
  {
   "cell_type": "markdown",
   "metadata": {
    "papermill": {
     "duration": 0.037225,
     "end_time": "2022-05-13T05:06:28.002297",
     "exception": false,
     "start_time": "2022-05-13T05:06:27.965072",
     "status": "completed"
    },
    "tags": []
   },
   "source": [
    "# 1. Data Cleaning\n",
    "\n",
    "We'll remove outliers, clean up some of the raw data and add some new variables to it."
   ]
  },
  {
   "cell_type": "markdown",
   "metadata": {
    "papermill": {
     "duration": 0.036549,
     "end_time": "2022-05-13T05:06:28.075567",
     "exception": false,
     "start_time": "2022-05-13T05:06:28.039018",
     "status": "completed"
    },
    "tags": []
   },
   "source": [
    "# Remove outliers"
   ]
  },
  {
   "cell_type": "code",
   "execution_count": 3,
   "metadata": {
    "execution": {
     "iopub.execute_input": "2022-05-13T05:06:28.155501Z",
     "iopub.status.busy": "2022-05-13T05:06:28.154965Z",
     "iopub.status.idle": "2022-05-13T05:06:29.708096Z",
     "shell.execute_reply": "2022-05-13T05:06:29.707335Z",
     "shell.execute_reply.started": "2022-05-12T12:28:40.560523Z"
    },
    "papermill": {
     "duration": 1.596031,
     "end_time": "2022-05-13T05:06:29.708199",
     "exception": false,
     "start_time": "2022-05-13T05:06:28.112168",
     "status": "completed"
    },
    "tags": []
   },
   "outputs": [
    {
     "data": {
      "text/plain": [
       "<matplotlib.axes._subplots.AxesSubplot at 0x7f95ba040d50>"
      ]
     },
     "execution_count": 3,
     "metadata": {},
     "output_type": "execute_result"
    },
    {
     "data": {
      "image/png": "[encoded data removed]",
      "text/plain": [
       "<Figure size 720x288 with 1 Axes>"
      ]
     },
     "metadata": {},
     "output_type": "display_data"
    },
    {
     "data": {
      "image/png": "[encoded data removed]",
      "text/plain": [
       "<Figure size 720x288 with 1 Axes>"
      ]
     },
     "metadata": {},
     "output_type": "display_data"
    }
   ],
   "source": [
    "plt.figure(figsize=(10,4))\n",
    "plt.xlim(-100, 3000)\n",
    "flierprops = dict(marker='o', markerfacecolor='purple', markersize=6,\n",
    "                  linestyle='none', markeredgecolor='black')\n",
    "sns.boxplot(x=train.item_cnt_day, flierprops=flierprops)\n",
    "\n",
    "plt.figure(figsize=(10,4))\n",
    "plt.xlim(train.item_price.min(), train.item_price.max()*1.1)\n",
    "sns.boxplot(x=train.item_price, flierprops=flierprops)"
   ]
  },
  {
   "cell_type": "markdown",
   "metadata": {
    "papermill": {
     "duration": 0.039452,
     "end_time": "2022-05-13T05:06:29.786830",
     "exception": false,
     "start_time": "2022-05-13T05:06:29.747378",
     "status": "completed"
    },
    "tags": []
   },
   "source": [
    "We'll remove the obvious outliers in the dataset - the items that sold more than 1000 in one day and the item with price greater than 300,000."
   ]
  },
  {
   "cell_type": "code",
   "execution_count": 4,
   "metadata": {
    "execution": {
     "iopub.execute_input": "2022-05-13T05:06:29.868636Z",
     "iopub.status.busy": "2022-05-13T05:06:29.867623Z",
     "iopub.status.idle": "2022-05-13T05:06:29.994006Z",
     "shell.execute_reply": "2022-05-13T05:06:29.993376Z",
     "shell.execute_reply.started": "2022-05-12T11:07:53.506029Z"
    },
    "papermill": {
     "duration": 0.169158,
     "end_time": "2022-05-13T05:06:29.994123",
     "exception": false,
     "start_time": "2022-05-13T05:06:29.824965",
     "status": "completed"
    },
    "tags": []
   },
   "outputs": [],
   "source": [
    "train = train[(train.item_price < 300000 )& (train.item_cnt_day < 1000)]"
   ]
  },
  {
   "cell_type": "markdown",
   "metadata": {
    "papermill": {
     "duration": 0.037824,
     "end_time": "2022-05-13T05:06:30.070099",
     "exception": false,
     "start_time": "2022-05-13T05:06:30.032275",
     "status": "completed"
    },
    "tags": []
   },
   "source": [
    "Remove any rows from train where item price is negative - these could be refunds. Also make zero and item_cnt_day values less than one, to remove negative values."
   ]
  },
  {
   "cell_type": "code",
   "execution_count": 5,
   "metadata": {
    "execution": {
     "iopub.execute_input": "2022-05-13T05:06:30.151660Z",
     "iopub.status.busy": "2022-05-13T05:06:30.150749Z",
     "iopub.status.idle": "2022-05-13T05:06:30.409571Z",
     "shell.execute_reply": "2022-05-13T05:06:30.410709Z",
     "shell.execute_reply.started": "2022-05-12T11:07:53.642036Z"
    },
    "papermill": {
     "duration": 0.302842,
     "end_time": "2022-05-13T05:06:30.410897",
     "exception": false,
     "start_time": "2022-05-13T05:06:30.108055",
     "status": "completed"
    },
    "tags": []
   },
   "outputs": [],
   "source": [
    "train = train[train.item_price > 0].reset_index(drop = True)\n",
    "train.loc[train.item_cnt_day < 1, \"item_cnt_day\"] = 0"
   ]
  },
  {
   "cell_type": "markdown",
   "metadata": {
    "papermill": {
     "duration": 0.063958,
     "end_time": "2022-05-13T05:06:30.542468",
     "exception": false,
     "start_time": "2022-05-13T05:06:30.478510",
     "status": "completed"
    },
    "tags": []
   },
   "source": [
    "# Cleaning Shop Data"
   ]
  },
  {
   "cell_type": "markdown",
   "metadata": {
    "papermill": {
     "duration": 0.062324,
     "end_time": "2022-05-13T05:06:30.666701",
     "exception": false,
     "start_time": "2022-05-13T05:06:30.604377",
     "status": "completed"
    },
    "tags": []
   },
   "source": [
    "Clean up some shop names and add 'city' and 'category' to shops df."
   ]
  },
  {
   "cell_type": "code",
   "execution_count": 6,
   "metadata": {
    "execution": {
     "iopub.execute_input": "2022-05-13T05:06:30.794010Z",
     "iopub.status.busy": "2022-05-13T05:06:30.793466Z",
     "iopub.status.idle": "2022-05-13T05:06:30.797466Z",
     "shell.execute_reply": "2022-05-13T05:06:30.796916Z",
     "shell.execute_reply.started": "2022-05-12T11:07:53.846644Z"
    },
    "papermill": {
     "duration": 0.068965,
     "end_time": "2022-05-13T05:06:30.797614",
     "exception": false,
     "start_time": "2022-05-13T05:06:30.728649",
     "status": "completed"
    },
    "tags": []
   },
   "outputs": [],
   "source": [
    "shops[\"city\"] = shops.shop_name.str.split(\" \").map( lambda x: x[0] )\n",
    "shops[\"category\"] = shops.shop_name.str.split(\" \").map( lambda x: x[1] )"
   ]
  },
  {
   "cell_type": "code",
   "execution_count": 7,
   "metadata": {
    "execution": {
     "iopub.execute_input": "2022-05-13T05:06:30.884238Z",
     "iopub.status.busy": "2022-05-13T05:06:30.883533Z",
     "iopub.status.idle": "2022-05-13T05:06:30.939740Z",
     "shell.execute_reply": "2022-05-13T05:06:30.939241Z",
     "shell.execute_reply.started": "2022-05-12T11:07:53.857251Z"
    },
    "papermill": {
     "duration": 0.101463,
     "end_time": "2022-05-13T05:06:30.939847",
     "exception": false,
     "start_time": "2022-05-13T05:06:30.838384",
     "status": "completed"
    },
    "tags": []
   },
   "outputs": [],
   "source": [
    "from sklearn.preprocessing import LabelEncoder\n",
    "shops[\"shop_category\"] = LabelEncoder().fit_transform( shops.category )\n",
    "shops[\"shop_city\"] = LabelEncoder().fit_transform( shops.city )\n",
    "shops = shops[[\"shop_id\", \"shop_category\", \"shop_city\"]]"
   ]
  },
  {
   "cell_type": "markdown",
   "metadata": {
    "papermill": {
     "duration": 0.039316,
     "end_time": "2022-05-13T05:06:31.020222",
     "exception": false,
     "start_time": "2022-05-13T05:06:30.980906",
     "status": "completed"
    },
    "tags": []
   },
   "source": [
    "# Cleaning Item Category Data"
   ]
  },
  {
   "cell_type": "code",
   "execution_count": 8,
   "metadata": {
    "execution": {
     "iopub.execute_input": "2022-05-13T05:06:31.102665Z",
     "iopub.status.busy": "2022-05-13T05:06:31.101922Z",
     "iopub.status.idle": "2022-05-13T05:06:31.104911Z",
     "shell.execute_reply": "2022-05-13T05:06:31.104306Z",
     "shell.execute_reply.started": "2022-05-12T11:07:53.920757Z"
    },
    "papermill": {
     "duration": 0.046763,
     "end_time": "2022-05-13T05:06:31.105011",
     "exception": false,
     "start_time": "2022-05-13T05:06:31.058248",
     "status": "completed"
    },
    "tags": []
   },
   "outputs": [],
   "source": [
    "cats[\"type_code\"] = cats.item_category_name.apply( lambda x: x.split(\" \")[0] ).astype(str)"
   ]
  },
  {
   "cell_type": "code",
   "execution_count": 9,
   "metadata": {
    "execution": {
     "iopub.execute_input": "2022-05-13T05:06:31.194857Z",
     "iopub.status.busy": "2022-05-13T05:06:31.194173Z",
     "iopub.status.idle": "2022-05-13T05:06:31.198280Z",
     "shell.execute_reply": "2022-05-13T05:06:31.197779Z",
     "shell.execute_reply.started": "2022-05-12T11:07:53.928914Z"
    },
    "papermill": {
     "duration": 0.054687,
     "end_time": "2022-05-13T05:06:31.198378",
     "exception": false,
     "start_time": "2022-05-13T05:06:31.143691",
     "status": "completed"
    },
    "tags": []
   },
   "outputs": [],
   "source": [
    "cats.type_code = LabelEncoder().fit_transform(cats.type_code)\n",
    "cats[\"split\"] = cats.item_category_name.apply(lambda x: x.split(\"-\"))\n",
    "cats[\"subtype\"] = cats.split.apply(lambda x: x[1].strip() if len(x) > 1 else x[0].strip())\n",
    "cats[\"subtype_code\"] = LabelEncoder().fit_transform( cats[\"subtype\"] )\n",
    "cats = cats[[\"item_category_id\", \"subtype_code\", \"type_code\"]]"
   ]
  },
  {
   "cell_type": "markdown",
   "metadata": {
    "papermill": {
     "duration": 0.037933,
     "end_time": "2022-05-13T05:06:31.274767",
     "exception": false,
     "start_time": "2022-05-13T05:06:31.236834",
     "status": "completed"
    },
    "tags": []
   },
   "source": [
    "# Cleaning Item Data"
   ]
  },
  {
   "cell_type": "code",
   "execution_count": 10,
   "metadata": {
    "execution": {
     "iopub.execute_input": "2022-05-13T05:06:31.356988Z",
     "iopub.status.busy": "2022-05-13T05:06:31.356392Z",
     "iopub.status.idle": "2022-05-13T05:06:31.359920Z",
     "shell.execute_reply": "2022-05-13T05:06:31.359453Z",
     "shell.execute_reply.started": "2022-05-12T11:07:53.947566Z"
    },
    "papermill": {
     "duration": 0.046749,
     "end_time": "2022-05-13T05:06:31.360007",
     "exception": false,
     "start_time": "2022-05-13T05:06:31.313258",
     "status": "completed"
    },
    "tags": []
   },
   "outputs": [],
   "source": [
    "import re\n",
    "def name_correction(x):\n",
    "    x = x.lower() # all letters lower case\n",
    "    x = x.partition('[')[0] # partition by square brackets\n",
    "    x = x.partition('(')[0] # partition by curly brackets\n",
    "    x = re.sub('[^A-Za-z0-9А-Яа-я]+', ' ', x) # remove special characters\n",
    "    x = x.replace('  ', ' ') # replace double spaces with single spaces\n",
    "    x = x.strip() # remove leading and trailing white space\n",
    "    return x"
   ]
  },
  {
   "cell_type": "markdown",
   "metadata": {
    "papermill": {
     "duration": 0.037604,
     "end_time": "2022-05-13T05:06:31.435331",
     "exception": false,
     "start_time": "2022-05-13T05:06:31.397727",
     "status": "completed"
    },
    "tags": []
   },
   "source": [
    "Clean item names."
   ]
  },
  {
   "cell_type": "code",
   "execution_count": 11,
   "metadata": {
    "execution": {
     "iopub.execute_input": "2022-05-13T05:06:31.521589Z",
     "iopub.status.busy": "2022-05-13T05:06:31.520814Z",
     "iopub.status.idle": "2022-05-13T05:06:31.910114Z",
     "shell.execute_reply": "2022-05-13T05:06:31.909334Z",
     "shell.execute_reply.started": "2022-05-12T11:07:53.957341Z"
    },
    "papermill": {
     "duration": 0.436948,
     "end_time": "2022-05-13T05:06:31.910224",
     "exception": false,
     "start_time": "2022-05-13T05:06:31.473276",
     "status": "completed"
    },
    "tags": []
   },
   "outputs": [
    {
     "name": "stderr",
     "output_type": "stream",
     "text": [
      "/opt/conda/lib/python3.7/site-packages/ipykernel_launcher.py:2: FutureWarning: Columnar iteration over characters will be deprecated in future releases.\n",
      "  \n",
      "/opt/conda/lib/python3.7/site-packages/ipykernel_launcher.py:3: FutureWarning: Columnar iteration over characters will be deprecated in future releases.\n",
      "  This is separate from the ipykernel package so we can avoid doing imports until\n"
     ]
    }
   ],
   "source": [
    "# split item names by first bracket\n",
    "items[\"name1\"], items[\"name2\"] = items.item_name.str.split(\"[\", 1).str\n",
    "items[\"name1\"], items[\"name3\"] = items.item_name.str.split(\"(\", 1).str\n",
    "\n",
    "# replace special characters and turn to lower case\n",
    "items[\"name2\"] = items.name2.str.replace('[^A-Za-z0-9А-Яа-я]+', \" \").str.lower()\n",
    "items[\"name3\"] = items.name3.str.replace('[^A-Za-z0-9А-Яа-я]+', \" \").str.lower()\n",
    "\n",
    "# fill nulls with '0'\n",
    "items = items.fillna('0')\n",
    "\n",
    "items[\"item_name\"] = items[\"item_name\"].apply(lambda x: name_correction(x))\n",
    "\n",
    "# return all characters except the last if name 2 is not \"0\" - the closing bracket\n",
    "items.name2 = items.name2.apply( lambda x: x[:-1] if x !=\"0\" else \"0\")"
   ]
  },
  {
   "cell_type": "markdown",
   "metadata": {
    "papermill": {
     "duration": 0.038139,
     "end_time": "2022-05-13T05:06:31.987439",
     "exception": false,
     "start_time": "2022-05-13T05:06:31.949300",
     "status": "completed"
    },
    "tags": []
   },
   "source": [
    "Clean item type"
   ]
  },
  {
   "cell_type": "code",
   "execution_count": 12,
   "metadata": {
    "execution": {
     "iopub.execute_input": "2022-05-13T05:06:32.083402Z",
     "iopub.status.busy": "2022-05-13T05:06:32.080297Z",
     "iopub.status.idle": "2022-05-13T05:06:32.086307Z",
     "shell.execute_reply": "2022-05-13T05:06:32.087005Z",
     "shell.execute_reply.started": "2022-05-12T11:07:54.380435Z"
    },
    "papermill": {
     "duration": 0.061529,
     "end_time": "2022-05-13T05:06:32.087141",
     "exception": false,
     "start_time": "2022-05-13T05:06:32.025612",
     "status": "completed"
    },
    "tags": []
   },
   "outputs": [],
   "source": [
    "items[\"type\"] = items.name2.apply(lambda x: x[0:8] if x.split(\" \")[0] == \"xbox\" else x.split(\" \")[0] )"
   ]
  },
  {
   "cell_type": "code",
   "execution_count": 13,
   "metadata": {
    "execution": {
     "iopub.execute_input": "2022-05-13T05:06:32.167945Z",
     "iopub.status.busy": "2022-05-13T05:06:32.167344Z",
     "iopub.status.idle": "2022-05-13T05:06:32.173100Z",
     "shell.execute_reply": "2022-05-13T05:06:32.172675Z",
     "shell.execute_reply.started": "2022-05-12T11:07:54.405485Z"
    },
    "papermill": {
     "duration": 0.048056,
     "end_time": "2022-05-13T05:06:32.173193",
     "exception": false,
     "start_time": "2022-05-13T05:06:32.125137",
     "status": "completed"
    },
    "tags": []
   },
   "outputs": [
    {
     "data": {
      "text/plain": [
       "'group_sum = items.groupby([\"type\"]).agg({\"item_id\": \"count\"})\\ngroup_sum = group_sum.reset_index()\\ndrop_cols = []\\nfor cat in group_sum.type.unique():\\n    if group_sum.loc[(group_sum.type == cat), \"item_id\"].values[0] <40:\\n        drop_cols.append(cat)\\nitems.name2 = items.name2.apply( lambda x: \"other\" if (x in drop_cols) else x )\\nitems = items.drop([\"type\"], axis = 1)'"
      ]
     },
     "execution_count": 13,
     "metadata": {},
     "output_type": "execute_result"
    }
   ],
   "source": [
    "\"\"\"group_sum = items.groupby([\"type\"]).agg({\"item_id\": \"count\"})\n",
    "group_sum = group_sum.reset_index()\n",
    "drop_cols = []\n",
    "for cat in group_sum.type.unique():\n",
    "    if group_sum.loc[(group_sum.type == cat), \"item_id\"].values[0] <40:\n",
    "        drop_cols.append(cat)\n",
    "items.name2 = items.name2.apply( lambda x: \"other\" if (x in drop_cols) else x )\n",
    "items = items.drop([\"type\"], axis = 1)\"\"\""
   ]
  },
  {
   "cell_type": "code",
   "execution_count": 14,
   "metadata": {
    "execution": {
     "iopub.execute_input": "2022-05-13T05:06:32.257677Z",
     "iopub.status.busy": "2022-05-13T05:06:32.256879Z",
     "iopub.status.idle": "2022-05-13T05:06:32.290489Z",
     "shell.execute_reply": "2022-05-13T05:06:32.290930Z",
     "shell.execute_reply.started": "2022-05-12T11:07:54.414263Z"
    },
    "papermill": {
     "duration": 0.079174,
     "end_time": "2022-05-13T05:06:32.291046",
     "exception": false,
     "start_time": "2022-05-13T05:06:32.211872",
     "status": "completed"
    },
    "tags": []
   },
   "outputs": [
    {
     "data": {
      "text/html": [
       "<div>\n",
       "<style scoped>\n",
       "    .dataframe tbody tr th:only-of-type {\n",
       "        vertical-align: middle;\n",
       "    }\n",
       "\n",
       "    .dataframe tbody tr th {\n",
       "        vertical-align: top;\n",
       "    }\n",
       "\n",
       "    .dataframe thead th {\n",
       "        text-align: right;\n",
       "    }\n",
       "</style>\n",
       "<table border=\"1\" class=\"dataframe\">\n",
       "  <thead>\n",
       "    <tr style=\"text-align: right;\">\n",
       "      <th></th>\n",
       "      <th>item_id</th>\n",
       "      <th>item_category_id</th>\n",
       "      <th>name2</th>\n",
       "      <th>name3</th>\n",
       "    </tr>\n",
       "  </thead>\n",
       "  <tbody>\n",
       "    <tr>\n",
       "      <th>0</th>\n",
       "      <td>0</td>\n",
       "      <td>40</td>\n",
       "      <td>4</td>\n",
       "      <td>1331</td>\n",
       "    </tr>\n",
       "    <tr>\n",
       "      <th>1</th>\n",
       "      <td>1</td>\n",
       "      <td>76</td>\n",
       "      <td>63</td>\n",
       "      <td>42</td>\n",
       "    </tr>\n",
       "    <tr>\n",
       "      <th>2</th>\n",
       "      <td>2</td>\n",
       "      <td>40</td>\n",
       "      <td>4</td>\n",
       "      <td>1011</td>\n",
       "    </tr>\n",
       "    <tr>\n",
       "      <th>3</th>\n",
       "      <td>3</td>\n",
       "      <td>40</td>\n",
       "      <td>4</td>\n",
       "      <td>1010</td>\n",
       "    </tr>\n",
       "    <tr>\n",
       "      <th>4</th>\n",
       "      <td>4</td>\n",
       "      <td>40</td>\n",
       "      <td>4</td>\n",
       "      <td>1572</td>\n",
       "    </tr>\n",
       "  </tbody>\n",
       "</table>\n",
       "</div>"
      ],
      "text/plain": [
       "   item_id  item_category_id  name2  name3\n",
       "0        0                40      4   1331\n",
       "1        1                76     63     42\n",
       "2        2                40      4   1011\n",
       "3        3                40      4   1010\n",
       "4        4                40      4   1572"
      ]
     },
     "execution_count": 14,
     "metadata": {},
     "output_type": "execute_result"
    }
   ],
   "source": [
    "items = items.drop([\"type\"], axis = 1)\n",
    "\n",
    "items.name2 = LabelEncoder().fit_transform(items.name2)\n",
    "items.name3 = LabelEncoder().fit_transform(items.name3)\n",
    "\n",
    "items.drop([\"item_name\", \"name1\"],axis = 1, inplace= True)\n",
    "items.head()"
   ]
  },
  {
   "cell_type": "markdown",
   "metadata": {
    "papermill": {
     "duration": 0.038972,
     "end_time": "2022-05-13T05:06:32.369486",
     "exception": false,
     "start_time": "2022-05-13T05:06:32.330514",
     "status": "completed"
    },
    "tags": []
   },
   "source": [
    "# Preprocessing\n",
    "\n",
    "Create a matrix df with every combination of month, shop and item in order of increasing month. Item_cnt_day is summed into an item_cnt_month."
   ]
  },
  {
   "cell_type": "code",
   "execution_count": 15,
   "metadata": {
    "execution": {
     "iopub.execute_input": "2022-05-13T05:06:32.457649Z",
     "iopub.status.busy": "2022-05-13T05:06:32.456794Z",
     "iopub.status.idle": "2022-05-13T05:06:50.154351Z",
     "shell.execute_reply": "2022-05-13T05:06:50.153879Z",
     "shell.execute_reply.started": "2022-05-12T11:07:54.463369Z"
    },
    "papermill": {
     "duration": 17.74534,
     "end_time": "2022-05-13T05:06:50.154485",
     "exception": false,
     "start_time": "2022-05-13T05:06:32.409145",
     "status": "completed"
    },
    "tags": []
   },
   "outputs": [
    {
     "data": {
      "text/plain": [
       "17.691680908203125"
      ]
     },
     "execution_count": 15,
     "metadata": {},
     "output_type": "execute_result"
    }
   ],
   "source": [
    "from itertools import product\n",
    "import time\n",
    "ts = time.time()\n",
    "matrix = []\n",
    "cols  = [\"date_block_num\", \"shop_id\", \"item_id\"]\n",
    "for i in range(34):\n",
    "    sales = train[train.date_block_num == i]\n",
    "    matrix.append( np.array(list( product( [i], sales.shop_id.unique(), sales.item_id.unique() ) ), dtype = np.int16) )\n",
    "\n",
    "matrix = pd.DataFrame( np.vstack(matrix), columns = cols )\n",
    "matrix[\"date_block_num\"] = matrix[\"date_block_num\"].astype(np.int8)\n",
    "matrix[\"shop_id\"] = matrix[\"shop_id\"].astype(np.int8)\n",
    "matrix[\"item_id\"] = matrix[\"item_id\"].astype(np.int16)\n",
    "matrix.sort_values( cols, inplace = True )\n",
    "time.time()- ts"
   ]
  },
  {
   "cell_type": "code",
   "execution_count": 16,
   "metadata": {
    "execution": {
     "iopub.execute_input": "2022-05-13T05:06:50.247143Z",
     "iopub.status.busy": "2022-05-13T05:06:50.246339Z",
     "iopub.status.idle": "2022-05-13T05:06:50.273998Z",
     "shell.execute_reply": "2022-05-13T05:06:50.273280Z",
     "shell.execute_reply.started": "2022-05-12T11:08:12.772542Z"
    },
    "papermill": {
     "duration": 0.071203,
     "end_time": "2022-05-13T05:06:50.274097",
     "exception": false,
     "start_time": "2022-05-13T05:06:50.202894",
     "status": "completed"
    },
    "tags": []
   },
   "outputs": [],
   "source": [
    "# add revenue to train df\n",
    "train[\"revenue\"] = train[\"item_cnt_day\"] * train[\"item_price\"]"
   ]
  },
  {
   "cell_type": "code",
   "execution_count": 17,
   "metadata": {
    "execution": {
     "iopub.execute_input": "2022-05-13T05:06:50.360520Z",
     "iopub.status.busy": "2022-05-13T05:06:50.359349Z",
     "iopub.status.idle": "2022-05-13T05:06:55.115892Z",
     "shell.execute_reply": "2022-05-13T05:06:55.114982Z",
     "shell.execute_reply.started": "2022-05-12T11:08:12.80775Z"
    },
    "papermill": {
     "duration": 4.802228,
     "end_time": "2022-05-13T05:06:55.116002",
     "exception": false,
     "start_time": "2022-05-13T05:06:50.313774",
     "status": "completed"
    },
    "tags": []
   },
   "outputs": [
    {
     "data": {
      "text/plain": [
       "4.7517712116241455"
      ]
     },
     "execution_count": 17,
     "metadata": {},
     "output_type": "execute_result"
    }
   ],
   "source": [
    "ts = time.time()\n",
    "group = train.groupby( [\"date_block_num\", \"shop_id\", \"item_id\"] ).agg( {\"item_cnt_day\": [\"sum\"]} )\n",
    "group.columns = [\"item_cnt_month\"]\n",
    "group.reset_index( inplace = True)\n",
    "matrix = pd.merge( matrix, group, on = cols, how = \"left\" )\n",
    "matrix[\"item_cnt_month\"] = matrix[\"item_cnt_month\"].fillna(0).astype(np.float16)\n",
    "time.time() - ts"
   ]
  },
  {
   "cell_type": "markdown",
   "metadata": {
    "papermill": {
     "duration": 0.040005,
     "end_time": "2022-05-13T05:06:55.195851",
     "exception": false,
     "start_time": "2022-05-13T05:06:55.155846",
     "status": "completed"
    },
    "tags": []
   },
   "source": [
    "Add shop, items and categories data onto matrix df."
   ]
  },
  {
   "cell_type": "code",
   "execution_count": 18,
   "metadata": {
    "_cell_guid": "79c7e3d0-c299-4dcb-8224-4455121ee9b0",
    "_uuid": "d629ff2d2480ee46fbb7e2d37f6b5fab8052498a",
    "execution": {
     "iopub.execute_input": "2022-05-13T05:06:55.286301Z",
     "iopub.status.busy": "2022-05-13T05:06:55.285194Z",
     "iopub.status.idle": "2022-05-13T05:06:58.973717Z",
     "shell.execute_reply": "2022-05-13T05:06:58.972876Z",
     "shell.execute_reply.started": "2022-05-12T11:08:17.414194Z"
    },
    "papermill": {
     "duration": 3.738271,
     "end_time": "2022-05-13T05:06:58.973830",
     "exception": false,
     "start_time": "2022-05-13T05:06:55.235559",
     "status": "completed"
    },
    "tags": []
   },
   "outputs": [
    {
     "data": {
      "text/plain": [
       "3.684112310409546"
      ]
     },
     "execution_count": 18,
     "metadata": {},
     "output_type": "execute_result"
    }
   ],
   "source": [
    "ts = time.time()\n",
    "matrix = pd.merge( matrix, shops, on = [\"shop_id\"], how = \"left\" )\n",
    "matrix = pd.merge(matrix, items, on = [\"item_id\"], how = \"left\")\n",
    "matrix = pd.merge( matrix, cats, on = [\"item_category_id\"], how = \"left\" )\n",
    "matrix[\"shop_city\"] = matrix[\"shop_city\"].astype(np.int8)\n",
    "matrix[\"shop_category\"] = matrix[\"shop_category\"].astype(np.int8)\n",
    "matrix[\"item_category_id\"] = matrix[\"item_category_id\"].astype(np.int8)\n",
    "matrix[\"subtype_code\"] = matrix[\"subtype_code\"].astype(np.int8)\n",
    "matrix[\"name2\"] = matrix[\"name2\"].astype(np.int8)\n",
    "matrix[\"name3\"] = matrix[\"name3\"].astype(np.int16)\n",
    "matrix[\"type_code\"] = matrix[\"type_code\"].astype(np.int8)\n",
    "time.time() - ts"
   ]
  },
  {
   "cell_type": "markdown",
   "metadata": {
    "papermill": {
     "duration": 0.040838,
     "end_time": "2022-05-13T05:06:59.055490",
     "exception": false,
     "start_time": "2022-05-13T05:06:59.014652",
     "status": "completed"
    },
    "tags": []
   },
   "source": [
    "Feature Engineering\n",
    "\n",
    "* Add lag features to matrix df."
   ]
  },
  {
   "cell_type": "code",
   "execution_count": 19,
   "metadata": {
    "execution": {
     "iopub.execute_input": "2022-05-13T05:06:59.143320Z",
     "iopub.status.busy": "2022-05-13T05:06:59.142562Z",
     "iopub.status.idle": "2022-05-13T05:06:59.145399Z",
     "shell.execute_reply": "2022-05-13T05:06:59.144970Z",
     "shell.execute_reply.started": "2022-05-12T11:08:21.246143Z"
    },
    "papermill": {
     "duration": 0.049784,
     "end_time": "2022-05-13T05:06:59.145507",
     "exception": false,
     "start_time": "2022-05-13T05:06:59.095723",
     "status": "completed"
    },
    "tags": []
   },
   "outputs": [],
   "source": [
    "# Define a lag feature function\n",
    "def lag_feature( df,lags, cols ):\n",
    "    for col in cols:\n",
    "        print(col)\n",
    "        tmp = df[[\"date_block_num\", \"shop_id\",\"item_id\",col ]]\n",
    "        for i in lags:\n",
    "            shifted = tmp.copy()\n",
    "            shifted.columns = [\"date_block_num\", \"shop_id\", \"item_id\", col + \"_lag_\"+str(i)]\n",
    "            shifted.date_block_num = shifted.date_block_num + i\n",
    "            df = pd.merge(df, shifted, on=['date_block_num','shop_id','item_id'], how='left')\n",
    "    return df"
   ]
  },
  {
   "cell_type": "markdown",
   "metadata": {
    "papermill": {
     "duration": 0.040317,
     "end_time": "2022-05-13T05:06:59.228166",
     "exception": false,
     "start_time": "2022-05-13T05:06:59.187849",
     "status": "completed"
    },
    "tags": []
   },
   "source": [
    "Add item_cnt_month lag features."
   ]
  },
  {
   "cell_type": "code",
   "execution_count": 20,
   "metadata": {
    "execution": {
     "iopub.execute_input": "2022-05-13T05:06:59.314572Z",
     "iopub.status.busy": "2022-05-13T05:06:59.313355Z",
     "iopub.status.idle": "2022-05-13T05:07:17.905832Z",
     "shell.execute_reply": "2022-05-13T05:07:17.904787Z",
     "shell.execute_reply.started": "2022-05-12T11:08:21.255931Z"
    },
    "papermill": {
     "duration": 18.638035,
     "end_time": "2022-05-13T05:07:17.905935",
     "exception": false,
     "start_time": "2022-05-13T05:06:59.267900",
     "status": "completed"
    },
    "tags": []
   },
   "outputs": [
    {
     "name": "stdout",
     "output_type": "stream",
     "text": [
      "item_cnt_month\n"
     ]
    },
    {
     "data": {
      "text/plain": [
       "18.589215517044067"
      ]
     },
     "execution_count": 20,
     "metadata": {},
     "output_type": "execute_result"
    }
   ],
   "source": [
    "ts = time.time()\n",
    "matrix = lag_feature( matrix, [1,2,3], [\"item_cnt_month\"] )\n",
    "time.time() - ts"
   ]
  },
  {
   "cell_type": "markdown",
   "metadata": {
    "papermill": {
     "duration": 0.040236,
     "end_time": "2022-05-13T05:07:17.987526",
     "exception": false,
     "start_time": "2022-05-13T05:07:17.947290",
     "status": "completed"
    },
    "tags": []
   },
   "source": [
    "Add the previous month's average item_cnt."
   ]
  },
  {
   "cell_type": "code",
   "execution_count": 21,
   "metadata": {
    "execution": {
     "iopub.execute_input": "2022-05-13T05:07:18.077919Z",
     "iopub.status.busy": "2022-05-13T05:07:18.076382Z",
     "iopub.status.idle": "2022-05-13T05:07:28.398199Z",
     "shell.execute_reply": "2022-05-13T05:07:28.397762Z",
     "shell.execute_reply.started": "2022-05-12T11:08:40.094677Z"
    },
    "papermill": {
     "duration": 10.370491,
     "end_time": "2022-05-13T05:07:28.398300",
     "exception": false,
     "start_time": "2022-05-13T05:07:18.027809",
     "status": "completed"
    },
    "tags": []
   },
   "outputs": [
    {
     "name": "stdout",
     "output_type": "stream",
     "text": [
      "date_avg_item_cnt\n"
     ]
    },
    {
     "data": {
      "text/plain": [
       "10.318126201629639"
      ]
     },
     "execution_count": 21,
     "metadata": {},
     "output_type": "execute_result"
    }
   ],
   "source": [
    "ts = time.time()\n",
    "group = matrix.groupby( [\"date_block_num\"] ).agg({\"item_cnt_month\" : [\"mean\"]})\n",
    "group.columns = [\"date_avg_item_cnt\"]\n",
    "group.reset_index(inplace = True)\n",
    "\n",
    "matrix = pd.merge(matrix, group, on = [\"date_block_num\"], how = \"left\")\n",
    "matrix.date_avg_item_cnt = matrix[\"date_avg_item_cnt\"].astype(np.float16)\n",
    "matrix = lag_feature( matrix, [1], [\"date_avg_item_cnt\"] )\n",
    "matrix.drop( [\"date_avg_item_cnt\"], axis = 1, inplace = True )\n",
    "time.time() - ts"
   ]
  },
  {
   "cell_type": "markdown",
   "metadata": {
    "papermill": {
     "duration": 0.0761,
     "end_time": "2022-05-13T05:07:28.516214",
     "exception": false,
     "start_time": "2022-05-13T05:07:28.440114",
     "status": "completed"
    },
    "tags": []
   },
   "source": [
    "Add lag values of item_cnt_month for month / item_id."
   ]
  },
  {
   "cell_type": "code",
   "execution_count": 22,
   "metadata": {
    "execution": {
     "iopub.execute_input": "2022-05-13T05:07:28.608033Z",
     "iopub.status.busy": "2022-05-13T05:07:28.607214Z",
     "iopub.status.idle": "2022-05-13T05:07:52.781880Z",
     "shell.execute_reply": "2022-05-13T05:07:52.781024Z",
     "shell.execute_reply.started": "2022-05-12T11:08:50.510387Z"
    },
    "papermill": {
     "duration": 24.223789,
     "end_time": "2022-05-13T05:07:52.781985",
     "exception": false,
     "start_time": "2022-05-13T05:07:28.558196",
     "status": "completed"
    },
    "tags": []
   },
   "outputs": [
    {
     "name": "stdout",
     "output_type": "stream",
     "text": [
      "date_item_avg_item_cnt\n"
     ]
    },
    {
     "data": {
      "text/plain": [
       "24.168715476989746"
      ]
     },
     "execution_count": 22,
     "metadata": {},
     "output_type": "execute_result"
    }
   ],
   "source": [
    "ts = time.time()\n",
    "group = matrix.groupby(['date_block_num', 'item_id']).agg({'item_cnt_month': ['mean']})\n",
    "group.columns = [ 'date_item_avg_item_cnt' ]\n",
    "group.reset_index(inplace=True)\n",
    "\n",
    "matrix = pd.merge(matrix, group, on=['date_block_num','item_id'], how='left')\n",
    "matrix.date_item_avg_item_cnt = matrix['date_item_avg_item_cnt'].astype(np.float16)\n",
    "matrix = lag_feature(matrix, [1,2,3], ['date_item_avg_item_cnt'])\n",
    "matrix.drop(['date_item_avg_item_cnt'], axis=1, inplace=True)\n",
    "time.time() - ts"
   ]
  },
  {
   "cell_type": "markdown",
   "metadata": {
    "papermill": {
     "duration": 0.04172,
     "end_time": "2022-05-13T05:07:52.866710",
     "exception": false,
     "start_time": "2022-05-13T05:07:52.824990",
     "status": "completed"
    },
    "tags": []
   },
   "source": [
    "Add lag values for item_cnt_month for every month / shop combination."
   ]
  },
  {
   "cell_type": "code",
   "execution_count": 23,
   "metadata": {
    "execution": {
     "iopub.execute_input": "2022-05-13T05:07:52.958774Z",
     "iopub.status.busy": "2022-05-13T05:07:52.957979Z",
     "iopub.status.idle": "2022-05-13T05:08:18.016261Z",
     "shell.execute_reply": "2022-05-13T05:08:18.015825Z",
     "shell.execute_reply.started": "2022-05-12T11:09:15.524563Z"
    },
    "papermill": {
     "duration": 25.107802,
     "end_time": "2022-05-13T05:08:18.016369",
     "exception": false,
     "start_time": "2022-05-13T05:07:52.908567",
     "status": "completed"
    },
    "tags": []
   },
   "outputs": [
    {
     "name": "stderr",
     "output_type": "stream",
     "text": [
      "/opt/conda/lib/python3.7/site-packages/ipykernel_launcher.py:7: UserWarning: Pandas doesn't allow columns to be created via a new attribute name - see https://pandas.pydata.org/pandas-docs/stable/indexing.html#attribute-access\n",
      "  import sys\n"
     ]
    },
    {
     "name": "stdout",
     "output_type": "stream",
     "text": [
      "date_shop_avg_item_cnt\n"
     ]
    },
    {
     "data": {
      "text/plain": [
       "25.053510904312134"
      ]
     },
     "execution_count": 23,
     "metadata": {},
     "output_type": "execute_result"
    }
   ],
   "source": [
    "ts = time.time()\n",
    "group = matrix.groupby( [\"date_block_num\",\"shop_id\"] ).agg({\"item_cnt_month\" : [\"mean\"]})\n",
    "group.columns = [\"date_shop_avg_item_cnt\"]\n",
    "group.reset_index(inplace = True)\n",
    "\n",
    "matrix = pd.merge(matrix, group, on = [\"date_block_num\",\"shop_id\"], how = \"left\")\n",
    "matrix.date_avg_item_cnt = matrix[\"date_shop_avg_item_cnt\"].astype(np.float16)\n",
    "matrix = lag_feature( matrix, [1,2,3], [\"date_shop_avg_item_cnt\"] )\n",
    "matrix.drop( [\"date_shop_avg_item_cnt\"], axis = 1, inplace = True )\n",
    "time.time() - ts"
   ]
  },
  {
   "cell_type": "markdown",
   "metadata": {
    "papermill": {
     "duration": 0.042671,
     "end_time": "2022-05-13T05:08:18.101847",
     "exception": false,
     "start_time": "2022-05-13T05:08:18.059176",
     "status": "completed"
    },
    "tags": []
   },
   "source": [
    "Add lag values for item_cnt_month for month/shop/item."
   ]
  },
  {
   "cell_type": "code",
   "execution_count": 24,
   "metadata": {
    "execution": {
     "iopub.execute_input": "2022-05-13T05:08:18.222632Z",
     "iopub.status.busy": "2022-05-13T05:08:18.221931Z",
     "iopub.status.idle": "2022-05-13T05:08:54.429357Z",
     "shell.execute_reply": "2022-05-13T05:08:54.429826Z",
     "shell.execute_reply.started": "2022-05-12T11:09:40.911471Z"
    },
    "papermill": {
     "duration": 36.285889,
     "end_time": "2022-05-13T05:08:54.429957",
     "exception": false,
     "start_time": "2022-05-13T05:08:18.144068",
     "status": "completed"
    },
    "tags": []
   },
   "outputs": [
    {
     "name": "stderr",
     "output_type": "stream",
     "text": [
      "/opt/conda/lib/python3.7/site-packages/ipykernel_launcher.py:7: UserWarning: Pandas doesn't allow columns to be created via a new attribute name - see https://pandas.pydata.org/pandas-docs/stable/indexing.html#attribute-access\n",
      "  import sys\n"
     ]
    },
    {
     "name": "stdout",
     "output_type": "stream",
     "text": [
      "date_shop_item_avg_item_cnt\n"
     ]
    },
    {
     "data": {
      "text/plain": [
       "36.160263538360596"
      ]
     },
     "execution_count": 24,
     "metadata": {},
     "output_type": "execute_result"
    }
   ],
   "source": [
    "ts = time.time()\n",
    "group = matrix.groupby( [\"date_block_num\",\"shop_id\",\"item_id\"] ).agg({\"item_cnt_month\" : [\"mean\"]})\n",
    "group.columns = [\"date_shop_item_avg_item_cnt\"]\n",
    "group.reset_index(inplace = True)\n",
    "\n",
    "matrix = pd.merge(matrix, group, on = [\"date_block_num\",\"shop_id\",\"item_id\"], how = \"left\")\n",
    "matrix.date_avg_item_cnt = matrix[\"date_shop_item_avg_item_cnt\"].astype(np.float16)\n",
    "matrix = lag_feature( matrix, [1,2,3], [\"date_shop_item_avg_item_cnt\"] )\n",
    "matrix.drop( [\"date_shop_item_avg_item_cnt\"], axis = 1, inplace = True )\n",
    "time.time() - ts"
   ]
  },
  {
   "cell_type": "markdown",
   "metadata": {
    "papermill": {
     "duration": 0.043387,
     "end_time": "2022-05-13T05:08:54.517947",
     "exception": false,
     "start_time": "2022-05-13T05:08:54.474560",
     "status": "completed"
    },
    "tags": []
   },
   "source": [
    "Add lag values for item_cnt_month for month/shop/item subtype."
   ]
  },
  {
   "cell_type": "code",
   "execution_count": 25,
   "metadata": {
    "execution": {
     "iopub.execute_input": "2022-05-13T05:08:54.615533Z",
     "iopub.status.busy": "2022-05-13T05:08:54.614768Z",
     "iopub.status.idle": "2022-05-13T05:09:08.796295Z",
     "shell.execute_reply": "2022-05-13T05:09:08.795324Z",
     "shell.execute_reply.started": "2022-05-12T11:10:17.490457Z"
    },
    "papermill": {
     "duration": 14.23333,
     "end_time": "2022-05-13T05:09:08.796406",
     "exception": false,
     "start_time": "2022-05-13T05:08:54.563076",
     "status": "completed"
    },
    "tags": []
   },
   "outputs": [
    {
     "name": "stdout",
     "output_type": "stream",
     "text": [
      "date_shop_subtype_avg_item_cnt\n"
     ]
    },
    {
     "data": {
      "text/plain": [
       "14.17593502998352"
      ]
     },
     "execution_count": 25,
     "metadata": {},
     "output_type": "execute_result"
    }
   ],
   "source": [
    "ts = time.time()\n",
    "group = matrix.groupby(['date_block_num', 'shop_id', 'subtype_code']).agg({'item_cnt_month': ['mean']})\n",
    "group.columns = ['date_shop_subtype_avg_item_cnt']\n",
    "group.reset_index(inplace=True)\n",
    "\n",
    "matrix = pd.merge(matrix, group, on=['date_block_num', 'shop_id', 'subtype_code'], how='left')\n",
    "matrix.date_shop_subtype_avg_item_cnt = matrix['date_shop_subtype_avg_item_cnt'].astype(np.float16)\n",
    "matrix = lag_feature(matrix, [1], ['date_shop_subtype_avg_item_cnt'])\n",
    "matrix.drop(['date_shop_subtype_avg_item_cnt'], axis=1, inplace=True)\n",
    "time.time() - ts"
   ]
  },
  {
   "cell_type": "markdown",
   "metadata": {
    "papermill": {
     "duration": 0.043701,
     "end_time": "2022-05-13T05:09:08.884838",
     "exception": false,
     "start_time": "2022-05-13T05:09:08.841137",
     "status": "completed"
    },
    "tags": []
   },
   "source": [
    "Add lag values for item_cnt_month for month/city."
   ]
  },
  {
   "cell_type": "code",
   "execution_count": 26,
   "metadata": {
    "execution": {
     "iopub.execute_input": "2022-05-13T05:09:08.981025Z",
     "iopub.status.busy": "2022-05-13T05:09:08.980242Z",
     "iopub.status.idle": "2022-05-13T05:09:23.500157Z",
     "shell.execute_reply": "2022-05-13T05:09:23.499711Z",
     "shell.execute_reply.started": "2022-05-12T11:10:31.887579Z"
    },
    "papermill": {
     "duration": 14.571261,
     "end_time": "2022-05-13T05:09:23.500261",
     "exception": false,
     "start_time": "2022-05-13T05:09:08.929000",
     "status": "completed"
    },
    "tags": []
   },
   "outputs": [
    {
     "name": "stdout",
     "output_type": "stream",
     "text": [
      "date_city_avg_item_cnt\n"
     ]
    },
    {
     "data": {
      "text/plain": [
       "14.514971494674683"
      ]
     },
     "execution_count": 26,
     "metadata": {},
     "output_type": "execute_result"
    }
   ],
   "source": [
    "ts = time.time()\n",
    "group = matrix.groupby(['date_block_num', 'shop_city']).agg({'item_cnt_month': ['mean']})\n",
    "group.columns = ['date_city_avg_item_cnt']\n",
    "group.reset_index(inplace=True)\n",
    "\n",
    "matrix = pd.merge(matrix, group, on=['date_block_num', \"shop_city\"], how='left')\n",
    "matrix.date_city_avg_item_cnt = matrix['date_city_avg_item_cnt'].astype(np.float16)\n",
    "matrix = lag_feature(matrix, [1], ['date_city_avg_item_cnt'])\n",
    "matrix.drop(['date_city_avg_item_cnt'], axis=1, inplace=True)\n",
    "time.time() - ts"
   ]
  },
  {
   "cell_type": "markdown",
   "metadata": {
    "papermill": {
     "duration": 0.044523,
     "end_time": "2022-05-13T05:09:23.589543",
     "exception": false,
     "start_time": "2022-05-13T05:09:23.545020",
     "status": "completed"
    },
    "tags": []
   },
   "source": [
    "Add lag values for item_cnt_month for month/city/item."
   ]
  },
  {
   "cell_type": "code",
   "execution_count": 27,
   "metadata": {
    "execution": {
     "iopub.execute_input": "2022-05-13T05:09:23.686201Z",
     "iopub.status.busy": "2022-05-13T05:09:23.685451Z",
     "iopub.status.idle": "2022-05-13T05:09:45.622519Z",
     "shell.execute_reply": "2022-05-13T05:09:45.621963Z",
     "shell.execute_reply.started": "2022-05-12T11:10:46.784383Z"
    },
    "papermill": {
     "duration": 21.988839,
     "end_time": "2022-05-13T05:09:45.622627",
     "exception": false,
     "start_time": "2022-05-13T05:09:23.633788",
     "status": "completed"
    },
    "tags": []
   },
   "outputs": [
    {
     "name": "stdout",
     "output_type": "stream",
     "text": [
      "date_item_city_avg_item_cnt\n"
     ]
    },
    {
     "data": {
      "text/plain": [
       "21.93267583847046"
      ]
     },
     "execution_count": 27,
     "metadata": {},
     "output_type": "execute_result"
    }
   ],
   "source": [
    "ts = time.time()\n",
    "group = matrix.groupby(['date_block_num', 'item_id', 'shop_city']).agg({'item_cnt_month': ['mean']})\n",
    "group.columns = [ 'date_item_city_avg_item_cnt' ]\n",
    "group.reset_index(inplace=True)\n",
    "\n",
    "matrix = pd.merge(matrix, group, on=['date_block_num', 'item_id', 'shop_city'], how='left')\n",
    "matrix.date_item_city_avg_item_cnt = matrix['date_item_city_avg_item_cnt'].astype(np.float16)\n",
    "matrix = lag_feature(matrix, [1], ['date_item_city_avg_item_cnt'])\n",
    "matrix.drop(['date_item_city_avg_item_cnt'], axis=1, inplace=True)\n",
    "time.time() - ts"
   ]
  },
  {
   "cell_type": "markdown",
   "metadata": {
    "papermill": {
     "duration": 0.044983,
     "end_time": "2022-05-13T05:09:45.713235",
     "exception": false,
     "start_time": "2022-05-13T05:09:45.668252",
     "status": "completed"
    },
    "tags": []
   },
   "source": [
    "* Add total shop revenue per month to matix df. \n",
    "* Add lag values of revenue per month.\n",
    "* Add delta revenue values - how current month revenue relates to global average."
   ]
  },
  {
   "cell_type": "code",
   "execution_count": 28,
   "metadata": {
    "execution": {
     "iopub.execute_input": "2022-05-13T05:09:45.817205Z",
     "iopub.status.busy": "2022-05-13T05:09:45.816313Z",
     "iopub.status.idle": "2022-05-13T05:10:02.678251Z",
     "shell.execute_reply": "2022-05-13T05:10:02.677813Z",
     "shell.execute_reply.started": "2022-05-12T11:11:09.088651Z"
    },
    "papermill": {
     "duration": 16.919099,
     "end_time": "2022-05-13T05:10:02.678352",
     "exception": false,
     "start_time": "2022-05-13T05:09:45.759253",
     "status": "completed"
    },
    "tags": []
   },
   "outputs": [
    {
     "name": "stdout",
     "output_type": "stream",
     "text": [
      "delta_revenue\n"
     ]
    },
    {
     "data": {
      "text/plain": [
       "16.856003046035767"
      ]
     },
     "execution_count": 28,
     "metadata": {},
     "output_type": "execute_result"
    }
   ],
   "source": [
    "ts = time.time()\n",
    "group = train.groupby( [\"date_block_num\",\"shop_id\"] ).agg({\"revenue\": [\"sum\"] })\n",
    "group.columns = [\"date_shop_revenue\"]\n",
    "group.reset_index(inplace = True)\n",
    "\n",
    "matrix = matrix.merge( group , on = [\"date_block_num\", \"shop_id\"], how = \"left\" )\n",
    "matrix['date_shop_revenue'] = matrix['date_shop_revenue'].astype(np.float32)\n",
    "\n",
    "group = group.groupby([\"shop_id\"]).agg({ \"date_block_num\":[\"mean\"] })\n",
    "group.columns = [\"shop_avg_revenue\"]\n",
    "group.reset_index(inplace = True )\n",
    "\n",
    "matrix = matrix.merge( group, on = [\"shop_id\"], how = \"left\" )\n",
    "matrix[\"shop_avg_revenue\"] = matrix.shop_avg_revenue.astype(np.float32)\n",
    "matrix[\"delta_revenue\"] = (matrix['date_shop_revenue'] - matrix['shop_avg_revenue']) / matrix['shop_avg_revenue']\n",
    "matrix[\"delta_revenue\"] = matrix[\"delta_revenue\"]. astype(np.float32)\n",
    "\n",
    "matrix = lag_feature(matrix, [1], [\"delta_revenue\"])\n",
    "matrix[\"delta_revenue_lag_1\"] = matrix[\"delta_revenue_lag_1\"].astype(np.float32)\n",
    "matrix.drop( [\"date_shop_revenue\", \"shop_avg_revenue\", \"delta_revenue\"] ,axis = 1, inplace = True)\n",
    "time.time() - ts"
   ]
  },
  {
   "cell_type": "markdown",
   "metadata": {
    "papermill": {
     "duration": 0.045633,
     "end_time": "2022-05-13T05:10:02.770212",
     "exception": false,
     "start_time": "2022-05-13T05:10:02.724579",
     "status": "completed"
    },
    "tags": []
   },
   "source": [
    "Add month and number of days in each month to matrix df."
   ]
  },
  {
   "cell_type": "code",
   "execution_count": 29,
   "metadata": {
    "execution": {
     "iopub.execute_input": "2022-05-13T05:10:02.868544Z",
     "iopub.status.busy": "2022-05-13T05:10:02.867757Z",
     "iopub.status.idle": "2022-05-13T05:10:03.102400Z",
     "shell.execute_reply": "2022-05-13T05:10:03.101907Z",
     "shell.execute_reply.started": "2022-05-12T11:11:26.0823Z"
    },
    "papermill": {
     "duration": 0.28661,
     "end_time": "2022-05-13T05:10:03.102532",
     "exception": false,
     "start_time": "2022-05-13T05:10:02.815922",
     "status": "completed"
    },
    "tags": []
   },
   "outputs": [],
   "source": [
    "matrix[\"month\"] = matrix[\"date_block_num\"] % 12\n",
    "days = pd.Series([31,28,31,30,31,30,31,31,30,31,30,31])\n",
    "matrix[\"days\"] = matrix[\"month\"].map(days).astype(np.int8)"
   ]
  },
  {
   "cell_type": "markdown",
   "metadata": {
    "papermill": {
     "duration": 0.046225,
     "end_time": "2022-05-13T05:10:03.194795",
     "exception": false,
     "start_time": "2022-05-13T05:10:03.148570",
     "status": "completed"
    },
    "tags": []
   },
   "source": [
    "Add the month of each shop and item first sale."
   ]
  },
  {
   "cell_type": "code",
   "execution_count": 30,
   "metadata": {
    "execution": {
     "iopub.execute_input": "2022-05-13T05:10:03.294731Z",
     "iopub.status.busy": "2022-05-13T05:10:03.293532Z",
     "iopub.status.idle": "2022-05-13T05:10:04.832342Z",
     "shell.execute_reply": "2022-05-13T05:10:04.831688Z",
     "shell.execute_reply.started": "2022-05-12T11:11:26.389318Z"
    },
    "papermill": {
     "duration": 1.590944,
     "end_time": "2022-05-13T05:10:04.832468",
     "exception": false,
     "start_time": "2022-05-13T05:10:03.241524",
     "status": "completed"
    },
    "tags": []
   },
   "outputs": [
    {
     "data": {
      "text/plain": [
       "1.5345487594604492"
      ]
     },
     "execution_count": 30,
     "metadata": {},
     "output_type": "execute_result"
    }
   ],
   "source": [
    "ts = time.time()\n",
    "matrix[\"item_shop_first_sale\"] = matrix[\"date_block_num\"] - matrix.groupby([\"item_id\",\"shop_id\"])[\"date_block_num\"].transform('min')\n",
    "matrix[\"item_first_sale\"] = matrix[\"date_block_num\"] - matrix.groupby([\"item_id\"])[\"date_block_num\"].transform('min')\n",
    "time.time() - ts"
   ]
  },
  {
   "cell_type": "markdown",
   "metadata": {
    "papermill": {
     "duration": 0.046119,
     "end_time": "2022-05-13T05:10:04.924995",
     "exception": false,
     "start_time": "2022-05-13T05:10:04.878876",
     "status": "completed"
    },
    "tags": []
   },
   "source": [
    "Delete first three months from matrix. They don't have lag values."
   ]
  },
  {
   "cell_type": "code",
   "execution_count": 31,
   "metadata": {
    "execution": {
     "iopub.execute_input": "2022-05-13T05:10:05.023803Z",
     "iopub.status.busy": "2022-05-13T05:10:05.022930Z",
     "iopub.status.idle": "2022-05-13T05:10:06.154919Z",
     "shell.execute_reply": "2022-05-13T05:10:06.155298Z",
     "shell.execute_reply.started": "2022-05-12T11:11:27.975681Z"
    },
    "papermill": {
     "duration": 1.184409,
     "end_time": "2022-05-13T05:10:06.155447",
     "exception": false,
     "start_time": "2022-05-13T05:10:04.971038",
     "status": "completed"
    },
    "tags": []
   },
   "outputs": [
    {
     "data": {
      "text/plain": [
       "1.1290497779846191"
      ]
     },
     "execution_count": 31,
     "metadata": {},
     "output_type": "execute_result"
    }
   ],
   "source": [
    "ts = time.time()\n",
    "matrix = matrix[matrix[\"date_block_num\"] > 3]\n",
    "time.time() - ts"
   ]
  },
  {
   "cell_type": "code",
   "execution_count": 32,
   "metadata": {
    "execution": {
     "iopub.execute_input": "2022-05-13T05:10:06.257881Z",
     "iopub.status.busy": "2022-05-13T05:10:06.256951Z",
     "iopub.status.idle": "2022-05-13T05:10:06.278710Z",
     "shell.execute_reply": "2022-05-13T05:10:06.278137Z",
     "shell.execute_reply.started": "2022-05-12T11:11:29.116104Z"
    },
    "papermill": {
     "duration": 0.076751,
     "end_time": "2022-05-13T05:10:06.278831",
     "exception": false,
     "start_time": "2022-05-13T05:10:06.202080",
     "status": "completed"
    },
    "tags": []
   },
   "outputs": [
    {
     "data": {
      "text/html": [
       "<div>\n",
       "<style scoped>\n",
       "    .dataframe tbody tr th:only-of-type {\n",
       "        vertical-align: middle;\n",
       "    }\n",
       "\n",
       "    .dataframe tbody tr th {\n",
       "        vertical-align: top;\n",
       "    }\n",
       "\n",
       "    .dataframe thead th {\n",
       "        text-align: right;\n",
       "    }\n",
       "</style>\n",
       "<table border=\"1\" class=\"dataframe\">\n",
       "  <thead>\n",
       "    <tr style=\"text-align: right;\">\n",
       "      <th></th>\n",
       "      <th>1497465</th>\n",
       "      <th>1497466</th>\n",
       "      <th>1497467</th>\n",
       "      <th>1497468</th>\n",
       "      <th>1497469</th>\n",
       "    </tr>\n",
       "  </thead>\n",
       "  <tbody>\n",
       "    <tr>\n",
       "      <th>date_block_num</th>\n",
       "      <td>4.000000</td>\n",
       "      <td>4.000000</td>\n",
       "      <td>4.0</td>\n",
       "      <td>4.000000</td>\n",
       "      <td>4.000000</td>\n",
       "    </tr>\n",
       "    <tr>\n",
       "      <th>shop_id</th>\n",
       "      <td>2.000000</td>\n",
       "      <td>2.000000</td>\n",
       "      <td>2.0</td>\n",
       "      <td>2.000000</td>\n",
       "      <td>2.000000</td>\n",
       "    </tr>\n",
       "    <tr>\n",
       "      <th>item_id</th>\n",
       "      <td>27.000000</td>\n",
       "      <td>28.000000</td>\n",
       "      <td>29.0</td>\n",
       "      <td>30.000000</td>\n",
       "      <td>31.000000</td>\n",
       "    </tr>\n",
       "    <tr>\n",
       "      <th>item_cnt_month</th>\n",
       "      <td>0.000000</td>\n",
       "      <td>0.000000</td>\n",
       "      <td>0.0</td>\n",
       "      <td>0.000000</td>\n",
       "      <td>0.000000</td>\n",
       "    </tr>\n",
       "    <tr>\n",
       "      <th>shop_category</th>\n",
       "      <td>9.000000</td>\n",
       "      <td>9.000000</td>\n",
       "      <td>9.0</td>\n",
       "      <td>9.000000</td>\n",
       "      <td>9.000000</td>\n",
       "    </tr>\n",
       "    <tr>\n",
       "      <th>shop_city</th>\n",
       "      <td>1.000000</td>\n",
       "      <td>1.000000</td>\n",
       "      <td>1.0</td>\n",
       "      <td>1.000000</td>\n",
       "      <td>1.000000</td>\n",
       "    </tr>\n",
       "    <tr>\n",
       "      <th>item_category_id</th>\n",
       "      <td>19.000000</td>\n",
       "      <td>30.000000</td>\n",
       "      <td>23.0</td>\n",
       "      <td>40.000000</td>\n",
       "      <td>37.000000</td>\n",
       "    </tr>\n",
       "    <tr>\n",
       "      <th>name2</th>\n",
       "      <td>76.000000</td>\n",
       "      <td>107.000000</td>\n",
       "      <td>123.0</td>\n",
       "      <td>4.000000</td>\n",
       "      <td>4.000000</td>\n",
       "    </tr>\n",
       "    <tr>\n",
       "      <th>name3</th>\n",
       "      <td>42.000000</td>\n",
       "      <td>42.000000</td>\n",
       "      <td>42.0</td>\n",
       "      <td>42.000000</td>\n",
       "      <td>562.000000</td>\n",
       "    </tr>\n",
       "    <tr>\n",
       "      <th>subtype_code</th>\n",
       "      <td>10.000000</td>\n",
       "      <td>55.000000</td>\n",
       "      <td>16.0</td>\n",
       "      <td>4.000000</td>\n",
       "      <td>1.000000</td>\n",
       "    </tr>\n",
       "    <tr>\n",
       "      <th>type_code</th>\n",
       "      <td>5.000000</td>\n",
       "      <td>5.000000</td>\n",
       "      <td>5.0</td>\n",
       "      <td>7.000000</td>\n",
       "      <td>7.000000</td>\n",
       "    </tr>\n",
       "    <tr>\n",
       "      <th>item_cnt_month_lag_1</th>\n",
       "      <td>0.000000</td>\n",
       "      <td>0.000000</td>\n",
       "      <td>NaN</td>\n",
       "      <td>0.000000</td>\n",
       "      <td>1.000000</td>\n",
       "    </tr>\n",
       "    <tr>\n",
       "      <th>item_cnt_month_lag_2</th>\n",
       "      <td>0.000000</td>\n",
       "      <td>0.000000</td>\n",
       "      <td>NaN</td>\n",
       "      <td>1.000000</td>\n",
       "      <td>1.000000</td>\n",
       "    </tr>\n",
       "    <tr>\n",
       "      <th>item_cnt_month_lag_3</th>\n",
       "      <td>0.000000</td>\n",
       "      <td>0.000000</td>\n",
       "      <td>NaN</td>\n",
       "      <td>0.000000</td>\n",
       "      <td>4.000000</td>\n",
       "    </tr>\n",
       "    <tr>\n",
       "      <th>date_avg_item_cnt_lag_1</th>\n",
       "      <td>0.286865</td>\n",
       "      <td>0.286865</td>\n",
       "      <td>NaN</td>\n",
       "      <td>0.286865</td>\n",
       "      <td>0.286865</td>\n",
       "    </tr>\n",
       "    <tr>\n",
       "      <th>date_item_avg_item_cnt_lag_1</th>\n",
       "      <td>0.021744</td>\n",
       "      <td>0.130493</td>\n",
       "      <td>NaN</td>\n",
       "      <td>2.826172</td>\n",
       "      <td>1.260742</td>\n",
       "    </tr>\n",
       "    <tr>\n",
       "      <th>date_item_avg_item_cnt_lag_2</th>\n",
       "      <td>0.086975</td>\n",
       "      <td>0.152222</td>\n",
       "      <td>NaN</td>\n",
       "      <td>11.046875</td>\n",
       "      <td>4.781250</td>\n",
       "    </tr>\n",
       "    <tr>\n",
       "      <th>date_item_avg_item_cnt_lag_3</th>\n",
       "      <td>0.065247</td>\n",
       "      <td>0.173950</td>\n",
       "      <td>NaN</td>\n",
       "      <td>18.734375</td>\n",
       "      <td>13.648438</td>\n",
       "    </tr>\n",
       "    <tr>\n",
       "      <th>date_shop_avg_item_cnt_lag_1</th>\n",
       "      <td>0.071838</td>\n",
       "      <td>0.071838</td>\n",
       "      <td>NaN</td>\n",
       "      <td>0.071838</td>\n",
       "      <td>0.071838</td>\n",
       "    </tr>\n",
       "    <tr>\n",
       "      <th>date_shop_avg_item_cnt_lag_2</th>\n",
       "      <td>0.091064</td>\n",
       "      <td>0.091064</td>\n",
       "      <td>NaN</td>\n",
       "      <td>0.091064</td>\n",
       "      <td>0.091064</td>\n",
       "    </tr>\n",
       "    <tr>\n",
       "      <th>date_shop_avg_item_cnt_lag_3</th>\n",
       "      <td>0.059875</td>\n",
       "      <td>0.059875</td>\n",
       "      <td>NaN</td>\n",
       "      <td>0.059875</td>\n",
       "      <td>0.059875</td>\n",
       "    </tr>\n",
       "    <tr>\n",
       "      <th>date_shop_item_avg_item_cnt_lag_1</th>\n",
       "      <td>0.000000</td>\n",
       "      <td>0.000000</td>\n",
       "      <td>NaN</td>\n",
       "      <td>0.000000</td>\n",
       "      <td>1.000000</td>\n",
       "    </tr>\n",
       "    <tr>\n",
       "      <th>date_shop_item_avg_item_cnt_lag_2</th>\n",
       "      <td>0.000000</td>\n",
       "      <td>0.000000</td>\n",
       "      <td>NaN</td>\n",
       "      <td>1.000000</td>\n",
       "      <td>1.000000</td>\n",
       "    </tr>\n",
       "    <tr>\n",
       "      <th>date_shop_item_avg_item_cnt_lag_3</th>\n",
       "      <td>0.000000</td>\n",
       "      <td>0.000000</td>\n",
       "      <td>NaN</td>\n",
       "      <td>0.000000</td>\n",
       "      <td>4.000000</td>\n",
       "    </tr>\n",
       "    <tr>\n",
       "      <th>date_shop_subtype_avg_item_cnt_lag_1</th>\n",
       "      <td>0.449463</td>\n",
       "      <td>0.387207</td>\n",
       "      <td>NaN</td>\n",
       "      <td>0.018585</td>\n",
       "      <td>0.035919</td>\n",
       "    </tr>\n",
       "    <tr>\n",
       "      <th>date_city_avg_item_cnt_lag_1</th>\n",
       "      <td>0.071838</td>\n",
       "      <td>0.071838</td>\n",
       "      <td>NaN</td>\n",
       "      <td>0.071838</td>\n",
       "      <td>0.071838</td>\n",
       "    </tr>\n",
       "    <tr>\n",
       "      <th>date_item_city_avg_item_cnt_lag_1</th>\n",
       "      <td>0.000000</td>\n",
       "      <td>0.000000</td>\n",
       "      <td>NaN</td>\n",
       "      <td>0.000000</td>\n",
       "      <td>1.000000</td>\n",
       "    </tr>\n",
       "    <tr>\n",
       "      <th>delta_revenue_lag_1</th>\n",
       "      <td>37326.816406</td>\n",
       "      <td>37326.816406</td>\n",
       "      <td>NaN</td>\n",
       "      <td>37326.816406</td>\n",
       "      <td>37326.816406</td>\n",
       "    </tr>\n",
       "    <tr>\n",
       "      <th>month</th>\n",
       "      <td>4.000000</td>\n",
       "      <td>4.000000</td>\n",
       "      <td>4.0</td>\n",
       "      <td>4.000000</td>\n",
       "      <td>4.000000</td>\n",
       "    </tr>\n",
       "    <tr>\n",
       "      <th>days</th>\n",
       "      <td>31.000000</td>\n",
       "      <td>31.000000</td>\n",
       "      <td>31.0</td>\n",
       "      <td>31.000000</td>\n",
       "      <td>31.000000</td>\n",
       "    </tr>\n",
       "    <tr>\n",
       "      <th>item_shop_first_sale</th>\n",
       "      <td>4.000000</td>\n",
       "      <td>4.000000</td>\n",
       "      <td>4.0</td>\n",
       "      <td>3.000000</td>\n",
       "      <td>3.000000</td>\n",
       "    </tr>\n",
       "    <tr>\n",
       "      <th>item_first_sale</th>\n",
       "      <td>4.000000</td>\n",
       "      <td>4.000000</td>\n",
       "      <td>4.0</td>\n",
       "      <td>3.000000</td>\n",
       "      <td>3.000000</td>\n",
       "    </tr>\n",
       "  </tbody>\n",
       "</table>\n",
       "</div>"
      ],
      "text/plain": [
       "                                           1497465       1497466  1497467  \\\n",
       "date_block_num                            4.000000      4.000000      4.0   \n",
       "shop_id                                   2.000000      2.000000      2.0   \n",
       "item_id                                  27.000000     28.000000     29.0   \n",
       "item_cnt_month                            0.000000      0.000000      0.0   \n",
       "shop_category                             9.000000      9.000000      9.0   \n",
       "shop_city                                 1.000000      1.000000      1.0   \n",
       "item_category_id                         19.000000     30.000000     23.0   \n",
       "name2                                    76.000000    107.000000    123.0   \n",
       "name3                                    42.000000     42.000000     42.0   \n",
       "subtype_code                             10.000000     55.000000     16.0   \n",
       "type_code                                 5.000000      5.000000      5.0   \n",
       "item_cnt_month_lag_1                      0.000000      0.000000      NaN   \n",
       "item_cnt_month_lag_2                      0.000000      0.000000      NaN   \n",
       "item_cnt_month_lag_3                      0.000000      0.000000      NaN   \n",
       "date_avg_item_cnt_lag_1                   0.286865      0.286865      NaN   \n",
       "date_item_avg_item_cnt_lag_1              0.021744      0.130493      NaN   \n",
       "date_item_avg_item_cnt_lag_2              0.086975      0.152222      NaN   \n",
       "date_item_avg_item_cnt_lag_3              0.065247      0.173950      NaN   \n",
       "date_shop_avg_item_cnt_lag_1              0.071838      0.071838      NaN   \n",
       "date_shop_avg_item_cnt_lag_2              0.091064      0.091064      NaN   \n",
       "date_shop_avg_item_cnt_lag_3              0.059875      0.059875      NaN   \n",
       "date_shop_item_avg_item_cnt_lag_1         0.000000      0.000000      NaN   \n",
       "date_shop_item_avg_item_cnt_lag_2         0.000000      0.000000      NaN   \n",
       "date_shop_item_avg_item_cnt_lag_3         0.000000      0.000000      NaN   \n",
       "date_shop_subtype_avg_item_cnt_lag_1      0.449463      0.387207      NaN   \n",
       "date_city_avg_item_cnt_lag_1              0.071838      0.071838      NaN   \n",
       "date_item_city_avg_item_cnt_lag_1         0.000000      0.000000      NaN   \n",
       "delta_revenue_lag_1                   37326.816406  37326.816406      NaN   \n",
       "month                                     4.000000      4.000000      4.0   \n",
       "days                                     31.000000     31.000000     31.0   \n",
       "item_shop_first_sale                      4.000000      4.000000      4.0   \n",
       "item_first_sale                           4.000000      4.000000      4.0   \n",
       "\n",
       "                                           1497468       1497469  \n",
       "date_block_num                            4.000000      4.000000  \n",
       "shop_id                                   2.000000      2.000000  \n",
       "item_id                                  30.000000     31.000000  \n",
       "item_cnt_month                            0.000000      0.000000  \n",
       "shop_category                             9.000000      9.000000  \n",
       "shop_city                                 1.000000      1.000000  \n",
       "item_category_id                         40.000000     37.000000  \n",
       "name2                                     4.000000      4.000000  \n",
       "name3                                    42.000000    562.000000  \n",
       "subtype_code                              4.000000      1.000000  \n",
       "type_code                                 7.000000      7.000000  \n",
       "item_cnt_month_lag_1                      0.000000      1.000000  \n",
       "item_cnt_month_lag_2                      1.000000      1.000000  \n",
       "item_cnt_month_lag_3                      0.000000      4.000000  \n",
       "date_avg_item_cnt_lag_1                   0.286865      0.286865  \n",
       "date_item_avg_item_cnt_lag_1              2.826172      1.260742  \n",
       "date_item_avg_item_cnt_lag_2             11.046875      4.781250  \n",
       "date_item_avg_item_cnt_lag_3             18.734375     13.648438  \n",
       "date_shop_avg_item_cnt_lag_1              0.071838      0.071838  \n",
       "date_shop_avg_item_cnt_lag_2              0.091064      0.091064  \n",
       "date_shop_avg_item_cnt_lag_3              0.059875      0.059875  \n",
       "date_shop_item_avg_item_cnt_lag_1         0.000000      1.000000  \n",
       "date_shop_item_avg_item_cnt_lag_2         1.000000      1.000000  \n",
       "date_shop_item_avg_item_cnt_lag_3         0.000000      4.000000  \n",
       "date_shop_subtype_avg_item_cnt_lag_1      0.018585      0.035919  \n",
       "date_city_avg_item_cnt_lag_1              0.071838      0.071838  \n",
       "date_item_city_avg_item_cnt_lag_1         0.000000      1.000000  \n",
       "delta_revenue_lag_1                   37326.816406  37326.816406  \n",
       "month                                     4.000000      4.000000  \n",
       "days                                     31.000000     31.000000  \n",
       "item_shop_first_sale                      3.000000      3.000000  \n",
       "item_first_sale                           3.000000      3.000000  "
      ]
     },
     "execution_count": 32,
     "metadata": {},
     "output_type": "execute_result"
    }
   ],
   "source": [
    "matrix.head().T"
   ]
  },
  {
   "cell_type": "markdown",
   "metadata": {
    "papermill": {
     "duration": 0.048607,
     "end_time": "2022-05-13T05:10:06.383448",
     "exception": false,
     "start_time": "2022-05-13T05:10:06.334841",
     "status": "completed"
    },
    "tags": []
   },
   "source": [
    "# Modelling"
   ]
  },
  {
   "cell_type": "code",
   "execution_count": 33,
   "metadata": {
    "execution": {
     "iopub.execute_input": "2022-05-13T05:10:06.485924Z",
     "iopub.status.busy": "2022-05-13T05:10:06.485346Z",
     "iopub.status.idle": "2022-05-13T05:10:07.144951Z",
     "shell.execute_reply": "2022-05-13T05:10:07.145398Z",
     "shell.execute_reply.started": "2022-05-12T11:11:29.141312Z"
    },
    "papermill": {
     "duration": 0.712451,
     "end_time": "2022-05-13T05:10:07.145570",
     "exception": false,
     "start_time": "2022-05-13T05:10:06.433119",
     "status": "completed"
    },
    "tags": []
   },
   "outputs": [],
   "source": [
    "import gc\n",
    "import pickle\n",
    "from xgboost import XGBRegressor\n",
    "from matplotlib.pylab import rcParams\n",
    "rcParams['figure.figsize'] = 12, 4"
   ]
  },
  {
   "cell_type": "code",
   "execution_count": 34,
   "metadata": {
    "execution": {
     "iopub.execute_input": "2022-05-13T05:10:07.252401Z",
     "iopub.status.busy": "2022-05-13T05:10:07.251097Z",
     "iopub.status.idle": "2022-05-13T05:10:07.534388Z",
     "shell.execute_reply": "2022-05-13T05:10:07.533911Z",
     "shell.execute_reply.started": "2022-05-12T11:11:29.964436Z"
    },
    "papermill": {
     "duration": 0.341614,
     "end_time": "2022-05-13T05:10:07.534516",
     "exception": false,
     "start_time": "2022-05-13T05:10:07.192902",
     "status": "completed"
    },
    "tags": []
   },
   "outputs": [
    {
     "data": {
      "text/plain": [
       "32"
      ]
     },
     "execution_count": 34,
     "metadata": {},
     "output_type": "execute_result"
    }
   ],
   "source": [
    "data = matrix.copy()\n",
    "del matrix\n",
    "gc.collect()"
   ]
  },
  {
   "cell_type": "markdown",
   "metadata": {
    "papermill": {
     "duration": 0.052091,
     "end_time": "2022-05-13T05:10:07.639116",
     "exception": false,
     "start_time": "2022-05-13T05:10:07.587025",
     "status": "completed"
    },
    "tags": []
   },
   "source": [
    "Use month 21 as validation for training."
   ]
  },
  {
   "cell_type": "code",
   "execution_count": 35,
   "metadata": {
    "execution": {
     "iopub.execute_input": "2022-05-13T05:10:07.750580Z",
     "iopub.status.busy": "2022-05-13T05:10:07.749696Z",
     "iopub.status.idle": "2022-05-13T05:10:12.581894Z",
     "shell.execute_reply": "2022-05-13T05:10:12.580808Z",
     "shell.execute_reply.started": "2022-05-12T11:11:30.24377Z"
    },
    "papermill": {
     "duration": 4.891807,
     "end_time": "2022-05-13T05:10:12.582024",
     "exception": false,
     "start_time": "2022-05-13T05:10:07.690217",
     "status": "completed"
    },
    "tags": []
   },
   "outputs": [],
   "source": [
    "X_train = data[data.date_block_num != 21].drop(['item_cnt_month'], axis=1)\n",
    "Y_train = data[data.date_block_num != 21]\n",
    "\n",
    "X_train = X_train[X_train.date_block_num != 33]\n",
    "Y_train = Y_train[Y_train.date_block_num != 33]['item_cnt_month']\n",
    "\n",
    "\n",
    "X_valid = data[data.date_block_num == 21].drop(['item_cnt_month'], axis=1)\n",
    "Y_valid = data[data.date_block_num == 21]['item_cnt_month']\n",
    "X_test = data[data.date_block_num == 33].drop(['item_cnt_month'], axis=1)\n",
    "Y_test = data[data.date_block_num == 33]['item_cnt_month']"
   ]
  },
  {
   "cell_type": "code",
   "execution_count": 36,
   "metadata": {
    "execution": {
     "iopub.execute_input": "2022-05-13T05:10:12.755751Z",
     "iopub.status.busy": "2022-05-13T05:10:12.753890Z",
     "iopub.status.idle": "2022-05-13T05:10:12.756325Z",
     "shell.execute_reply": "2022-05-13T05:10:12.756781Z",
     "shell.execute_reply.started": "2022-05-12T11:11:34.925878Z"
    },
    "papermill": {
     "duration": 0.126392,
     "end_time": "2022-05-13T05:10:12.756913",
     "exception": false,
     "start_time": "2022-05-13T05:10:12.630521",
     "status": "completed"
    },
    "tags": []
   },
   "outputs": [],
   "source": [
    "del data\n",
    "gc.collect();"
   ]
  },
  {
   "cell_type": "code",
   "execution_count": 37,
   "metadata": {
    "execution": {
     "iopub.execute_input": "2022-05-13T05:10:12.863649Z",
     "iopub.status.busy": "2022-05-13T05:10:12.862458Z",
     "iopub.status.idle": "2022-05-13T05:21:07.398350Z",
     "shell.execute_reply": "2022-05-13T05:21:07.397847Z",
     "shell.execute_reply.started": "2022-05-12T11:11:35.010037Z"
    },
    "papermill": {
     "duration": 654.592155,
     "end_time": "2022-05-13T05:21:07.398482",
     "exception": false,
     "start_time": "2022-05-13T05:10:12.806327",
     "status": "completed"
    },
    "tags": []
   },
   "outputs": [
    {
     "name": "stdout",
     "output_type": "stream",
     "text": [
      "[05:10:33] WARNING: /workspace/src/gbm/gbtree.cc:139: Tree method is automatically selected to be 'approx' for faster speed. To use old behavior (exact greedy algorithm on single machine), set tree_method to 'exact'.\n",
      "[0]\tvalidation_0-rmse:3.29103\tvalidation_1-rmse:3.71254\n",
      "Multiple eval metrics have been passed: 'validation_1-rmse' will be used for early stopping.\n",
      "\n",
      "Will train until validation_1-rmse hasn't improved in 10 rounds.\n",
      "[1]\tvalidation_0-rmse:3.09624\tvalidation_1-rmse:3.56345\n",
      "[2]\tvalidation_0-rmse:2.92571\tvalidation_1-rmse:3.40978\n",
      "[3]\tvalidation_0-rmse:2.78145\tvalidation_1-rmse:3.32403\n",
      "[4]\tvalidation_0-rmse:2.64201\tvalidation_1-rmse:3.25310\n",
      "[5]\tvalidation_0-rmse:2.52240\tvalidation_1-rmse:3.19170\n",
      "[6]\tvalidation_0-rmse:2.41600\tvalidation_1-rmse:3.15441\n",
      "[7]\tvalidation_0-rmse:2.32038\tvalidation_1-rmse:3.12914\n",
      "[8]\tvalidation_0-rmse:2.23295\tvalidation_1-rmse:3.10084\n",
      "[9]\tvalidation_0-rmse:2.15686\tvalidation_1-rmse:3.08930\n",
      "[10]\tvalidation_0-rmse:2.09645\tvalidation_1-rmse:3.10549\n",
      "[11]\tvalidation_0-rmse:2.03819\tvalidation_1-rmse:3.11031\n",
      "[12]\tvalidation_0-rmse:1.98511\tvalidation_1-rmse:3.10421\n",
      "[13]\tvalidation_0-rmse:1.93745\tvalidation_1-rmse:3.10141\n",
      "[14]\tvalidation_0-rmse:1.89251\tvalidation_1-rmse:3.10282\n",
      "[15]\tvalidation_0-rmse:1.85469\tvalidation_1-rmse:3.11166\n",
      "[16]\tvalidation_0-rmse:1.82395\tvalidation_1-rmse:3.13166\n",
      "[17]\tvalidation_0-rmse:1.79387\tvalidation_1-rmse:3.15179\n",
      "[18]\tvalidation_0-rmse:1.76529\tvalidation_1-rmse:3.17046\n",
      "[19]\tvalidation_0-rmse:1.74180\tvalidation_1-rmse:3.17410\n",
      "Stopping. Best iteration:\n",
      "[9]\tvalidation_0-rmse:2.15686\tvalidation_1-rmse:3.08930\n",
      "\n"
     ]
    },
    {
     "data": {
      "text/plain": [
       "654.5325057506561"
      ]
     },
     "execution_count": 37,
     "metadata": {},
     "output_type": "execute_result"
    }
   ],
   "source": [
    "ts = time.time()\n",
    "\n",
    "model = XGBRegressor(\n",
    "    max_depth=10,\n",
    "    n_estimators=1000,\n",
    "    min_child_weight=0.5, \n",
    "    colsample_bytree=0.8, \n",
    "    subsample=0.8, \n",
    "    eta=0.1,\n",
    "#     tree_method='gpu_hist',\n",
    "    seed=42)\n",
    "\n",
    "model.fit(\n",
    "    X_train, \n",
    "    Y_train, \n",
    "    eval_metric=\"rmse\", \n",
    "    eval_set=[(X_train, Y_train), (X_valid, Y_valid)], \n",
    "    verbose=True, \n",
    "    early_stopping_rounds = 10)\n",
    "\n",
    "time.time() - ts"
   ]
  },
  {
   "cell_type": "code",
   "execution_count": 38,
   "metadata": {
    "execution": {
     "iopub.execute_input": "2022-05-13T05:21:07.510301Z",
     "iopub.status.busy": "2022-05-13T05:21:07.509786Z",
     "iopub.status.idle": "2022-05-13T05:21:07.513418Z",
     "shell.execute_reply": "2022-05-13T05:21:07.512995Z",
     "shell.execute_reply.started": "2022-05-12T11:23:25.814347Z"
    },
    "papermill": {
     "duration": 0.060648,
     "end_time": "2022-05-13T05:21:07.513565",
     "exception": false,
     "start_time": "2022-05-13T05:21:07.452917",
     "status": "completed"
    },
    "tags": []
   },
   "outputs": [],
   "source": [
    "#[7]\tvalidation_0-rmse:2.31749\tvalidation_1-rmse:3.17959\n",
    "#RMSE 2.0304219832397385"
   ]
  },
  {
   "cell_type": "code",
   "execution_count": 39,
   "metadata": {
    "execution": {
     "iopub.execute_input": "2022-05-13T05:21:07.628657Z",
     "iopub.status.busy": "2022-05-13T05:21:07.627888Z",
     "iopub.status.idle": "2022-05-13T05:21:07.883787Z",
     "shell.execute_reply": "2022-05-13T05:21:07.884749Z",
     "shell.execute_reply.started": "2022-05-12T11:23:25.82068Z"
    },
    "papermill": {
     "duration": 0.317366,
     "end_time": "2022-05-13T05:21:07.884904",
     "exception": false,
     "start_time": "2022-05-13T05:21:07.567538",
     "status": "completed"
    },
    "tags": []
   },
   "outputs": [
    {
     "name": "stdout",
     "output_type": "stream",
     "text": [
      "RMSE 2.0339934382375016\n"
     ]
    }
   ],
   "source": [
    "from sklearn.metrics import mean_squared_error\n",
    "from math import sqrt\n",
    "\n",
    "#Final Accuracy\n",
    "Y_pred = model.predict(X_test)\n",
    "rmse = sqrt(mean_squared_error(Y_test, Y_pred))\n",
    "print(\"RMSE\",rmse)"
   ]
  },
  {
   "cell_type": "code",
   "execution_count": 40,
   "metadata": {
    "execution": {
     "iopub.execute_input": "2022-05-13T05:21:08.041852Z",
     "iopub.status.busy": "2022-05-13T05:21:08.041231Z",
     "iopub.status.idle": "2022-05-13T05:21:08.643789Z",
     "shell.execute_reply": "2022-05-13T05:21:08.644223Z",
     "shell.execute_reply.started": "2022-05-12T11:23:26.091008Z"
    },
    "papermill": {
     "duration": 0.686397,
     "end_time": "2022-05-13T05:21:08.644351",
     "exception": false,
     "start_time": "2022-05-13T05:21:07.957954",
     "status": "completed"
    },
    "tags": []
   },
   "outputs": [
    {
     "data": {
      "text/plain": [
       "<matplotlib.axes._subplots.AxesSubplot at 0x7f95b6fdd710>"
      ]
     },
     "execution_count": 40,
     "metadata": {},
     "output_type": "execute_result"
    },
    {
     "data": {
      "image/png": "[encoded data removed]",
      "text/plain": [
       "<Figure size 720x1008 with 1 Axes>"
      ]
     },
     "metadata": {},
     "output_type": "display_data"
    }
   ],
   "source": [
    "from xgboost import plot_importance\n",
    "\n",
    "def plot_features(booster, figsize):    \n",
    "    fig, ax = plt.subplots(1,1,figsize=figsize)\n",
    "    return plot_importance(booster=booster, ax=ax)\n",
    "\n",
    "plot_features(model, (10,14))"
   ]
  },
  {
   "cell_type": "code",
   "execution_count": null,
   "metadata": {
    "papermill": {
     "duration": 0.05746,
     "end_time": "2022-05-13T05:21:08.759542",
     "exception": false,
     "start_time": "2022-05-13T05:21:08.702082",
     "status": "completed"
    },
    "tags": []
   },
   "outputs": [],
   "source": []
  }
 ],
 "metadata": {
  "kernelspec": {
   "display_name": "Python 3",
   "language": "python",
   "name": "python3"
  },
  "language_info": {
   "codemirror_mode": {
    "name": "ipython",
    "version": 3
   },
   "file_extension": ".py",
   "mimetype": "text/x-python",
   "name": "python",
   "nbconvert_exporter": "python",
   "pygments_lexer": "ipython3",
   "version": "3.7.6"
  },
  "papermill": {
   "duration": 888.001315,
   "end_time": "2022-05-13T05:21:08.923360",
   "environment_variables": {},
   "exception": null,
   "input_path": "__notebook__.ipynb",
   "output_path": "__notebook__.ipynb",
   "parameters": {},
   "start_time": "2022-05-13T05:06:20.922045",
   "version": "2.1.0"
  }
 },
 "nbformat": 4,
 "nbformat_minor": 4
}
